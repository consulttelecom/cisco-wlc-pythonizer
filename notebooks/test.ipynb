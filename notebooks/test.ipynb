{
 "cells": [
  {
   "cell_type": "code",
   "execution_count": 11,
   "metadata": {},
   "outputs": [],
   "source": [
    "%config IPcompleter.greedy = True\n",
    "import sys\n",
    "sys.path.append('/home/jovyan/app/source')\n",
    "from wlc_pythonizer import *\n",
    "main()"
   ]
  },
  {
   "cell_type": "code",
   "execution_count": 17,
   "metadata": {},
   "outputs": [
    {
     "name": "stdout",
     "output_type": "stream",
     "text": [
      "Number of NON-EMPTY lines in config file  2691\n",
      "Platform is  AireOS\n",
      "Parsing WLC config\n",
      "WARNING! Zero elements with name  None  was found \n",
      "Following WLCs were parsed from file:  ['WLC2504']\n",
      "Reach wlc config object by referencing device name as dictinary key. For example, my_configs[\"WLC1\"]\n",
      "Number of NON-EMPTY lines in config file  29826\n",
      "Platform is  9800\n",
      "Parsing WLC config\n",
      "Following WLCs were parsed from file:  ['vEWLC']\n",
      "Reach wlc config object by referencing device name as dictinary key. For example, my_configs[\"WLC1\"]\n"
     ]
    }
   ],
   "source": [
    "wlc_archive1 = parse_file('/home/jovyan/app/sample_configs/test_config_AOS.log')\n",
    "wlc_aireos = wlc_archive1['WLC2504']\n",
    "wlc_archive2 = parse_file('/home/jovyan/app/sample_configs/test_config_9800.log')\n",
    "wlc_9800 = wlc_archive2['vEWLC']\n"
   ]
  }
 ],
 "metadata": {
  "kernelspec": {
   "display_name": "Python 3",
   "language": "python",
   "name": "python3"
  },
  "language_info": {
   "codemirror_mode": {
    "name": "ipython",
    "version": 3
   },
   "file_extension": ".py",
   "mimetype": "text/x-python",
   "name": "python",
   "nbconvert_exporter": "python",
   "pygments_lexer": "ipython3",
   "version": "3.8.8"
  }
 },
 "nbformat": 4,
 "nbformat_minor": 5
}
