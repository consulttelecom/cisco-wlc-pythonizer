{
 "cells": [
  {
   "cell_type": "markdown",
   "id": "a373df27",
   "metadata": {},
   "source": [
    "## Let's start with importing necessary libraries and getting project logo as welcome message"
   ]
  },
  {
   "cell_type": "code",
   "execution_count": null,
   "id": "9f627cf0",
   "metadata": {},
   "outputs": [],
   "source": [
    "%config IPcompleter.greedy = True\n",
    "import sys\n",
    "sys.path.append('/home/jovyan/app/source')\n",
    "from wlc_pythonizer import *\n",
    "main()"
   ]
  },
  {
   "cell_type": "markdown",
   "id": "143fbc51",
   "metadata": {},
   "source": [
    "## Import AireOS WLC config from provided example file"
   ]
  },
  {
   "cell_type": "code",
   "execution_count": null,
   "id": "fa5a0e73",
   "metadata": {},
   "outputs": [],
   "source": [
    "wlc_archive1 = parse_file('/home/jovyan/app/sample_configs/test_config_AOS.log')\n",
    "wlc_aireos = wlc_archive1['WLC2504']\n",
    "wlc_aireos"
   ]
  },
  {
   "cell_type": "markdown",
   "id": "fadbeef6",
   "metadata": {},
   "source": [
    "## Import 9800 WLC config from provided example file"
   ]
  },
  {
   "cell_type": "code",
   "execution_count": null,
   "id": "2f002bf0",
   "metadata": {},
   "outputs": [],
   "source": [
    "wlc_archive2 = parse_file('/home/jovyan/app/sample_configs/test_config_9800.log')\n",
    "wlc_iosxe = wlc_archive2['vEWLC']\n",
    "wlc_iosxe"
   ]
  },
  {
   "cell_type": "markdown",
   "id": "4718d621",
   "metadata": {},
   "source": [
    "## Explore basic attributes"
   ]
  },
  {
   "cell_type": "code",
   "execution_count": null,
   "id": "d184e313",
   "metadata": {},
   "outputs": [],
   "source": [
    "#If the attribute is only one item like network config\n",
    "wlc_aireos.network"
   ]
  },
  {
   "cell_type": "code",
   "execution_count": null,
   "id": "a1bb17e9",
   "metadata": {},
   "outputs": [],
   "source": [
    "#Now do the same for 9800 WLC EAP parameters\n",
    "\n",
    "#Hint. Start typing wlc_iosxe.e then press TAB key\n",
    "\n",
    "# *your code is here*"
   ]
  },
  {
   "cell_type": "code",
   "execution_count": null,
   "id": "e0bc6931",
   "metadata": {},
   "outputs": [],
   "source": [
    "#If the attribute is the list of items\n",
    "wlc_aireos.ssid"
   ]
  },
  {
   "cell_type": "code",
   "execution_count": null,
   "id": "5dc95f94",
   "metadata": {},
   "outputs": [],
   "source": [
    "#Let's get one item from list by its name\n",
    "wlc_aireos.ssid['VMS']"
   ]
  },
  {
   "cell_type": "code",
   "execution_count": null,
   "id": "4b4c1a8c",
   "metadata": {},
   "outputs": [],
   "source": [
    "#Let's get all config from one SSID\n",
    "wlc_aireos.ssid['VMS'].show()"
   ]
  },
  {
   "cell_type": "code",
   "execution_count": null,
   "id": "c5996290",
   "metadata": {},
   "outputs": [],
   "source": [
    "#Previous list is quite large, lets try to find AAA related items by GREP\n",
    "wlc_aireos.ssid['VMS'].grep('aaa')"
   ]
  },
  {
   "cell_type": "code",
   "execution_count": null,
   "id": "000e57cc",
   "metadata": {},
   "outputs": [],
   "source": [
    "#Now explore all 9800 WLC policy tags\n",
    "\n",
    "#Hint. Start typing wlc_iosxe.p then press TAB key\n",
    "\n",
    "# *your code is here*\n"
   ]
  },
  {
   "cell_type": "code",
   "execution_count": null,
   "id": "a68549f5",
   "metadata": {},
   "outputs": [],
   "source": [
    "#Now explore the \"eogre\" policy tag config\n",
    "\n",
    "#Hint. Use wlc_iosxe.<attribute>['<name>'].show()\n",
    "\n",
    "# *your code is here*\n"
   ]
  },
  {
   "cell_type": "code",
   "execution_count": null,
   "id": "552965c6",
   "metadata": {},
   "outputs": [],
   "source": [
    "#Now find all attributes with \"wrong\" word from 9800 WLC\n",
    "\n",
    "#Hint. Use wlc_iosxe.grep('<searched_word>')\n",
    "\n",
    "# *your code is here*\n"
   ]
  },
  {
   "cell_type": "markdown",
   "id": "23ae55ea",
   "metadata": {},
   "source": [
    "## Filtering list by values"
   ]
  },
  {
   "cell_type": "code",
   "execution_count": null,
   "id": "a85f9b49",
   "metadata": {},
   "outputs": [],
   "source": [
    "#Let's check the number of rogue APs detected by our APs\n",
    "wlc_aireos.rogue_aps"
   ]
  },
  {
   "cell_type": "code",
   "execution_count": null,
   "id": "2e9d4eb6",
   "metadata": {},
   "outputs": [],
   "source": [
    "#The output is quite large, let's try to filter it by classification:\n",
    "wlc_aireos.rogue_aps.filter('classification','Friendly')"
   ]
  },
  {
   "cell_type": "code",
   "execution_count": null,
   "id": "9af9dfbb",
   "metadata": {},
   "outputs": [],
   "source": [
    "#Double filtering is also allowed\n",
    "wlc_aireos.rogue_aps.filter('classification','Friendly').filter('detecting_aps','1')"
   ]
  },
  {
   "cell_type": "code",
   "execution_count": null,
   "id": "9606ae2c",
   "metadata": {},
   "outputs": [],
   "source": [
    "#Now explore all SSIDs configured in 9800 WLC \n",
    "\n",
    "#Hint. Start typing wlc_iosxe.s then press TAB key\n",
    "\n",
    "# *your code is here*\n",
    "\n",
    "#How many SSIDs are configured?"
   ]
  },
  {
   "cell_type": "code",
   "execution_count": null,
   "id": "f2aca795",
   "metadata": {},
   "outputs": [],
   "source": [
    "#Are all of SSIDs enabled?\n",
    "\n",
    "#Hint. Apply filter function to SSID list and use attributes filter('status','Disabled')\n",
    "\n",
    "# *your code is here*\n",
    "\n",
    "#How many SSIDs are disabled?"
   ]
  },
  {
   "cell_type": "markdown",
   "id": "43b7f2ed",
   "metadata": {},
   "source": [
    "## Using Python list comprehensions"
   ]
  },
  {
   "cell_type": "code",
   "execution_count": null,
   "id": "d24ca3b1",
   "metadata": {},
   "outputs": [],
   "source": [
    "#Python lists and dictionary comprehensions will let you find any attribute and present the information in format you prefer\n",
    "\n",
    "#Let's try simplest case like\n",
    "\n",
    "#[x for x in range(6)]\n",
    "\n",
    "#[0, 1, 2, 3, 4, 5]\n",
    "\n",
    "#Let's apply the same principles to SSID list\n",
    "\n",
    "[ssid.name for ssid in wlc_aireos.ssid] "
   ]
  },
  {
   "cell_type": "code",
   "execution_count": null,
   "id": "4a827062",
   "metadata": {},
   "outputs": [],
   "source": [
    "#A bit more advanced example of list comprehension\n",
    "\n",
    "#[(x,x*2) for x in range(6)] # get pairs of number, doubled number\n",
    "\n",
    "#[(0, 0), (1, 2), (2, 4), (3, 6), (4, 8), (5, 10)]\n",
    "\n",
    "# get name and status of SSIDs configured\n",
    "[(ssid.name, ssid.status) for ssid in wlc_aireos.ssid] "
   ]
  },
  {
   "cell_type": "code",
   "execution_count": null,
   "id": "e3052b78",
   "metadata": {},
   "outputs": [],
   "source": [
    "#A bit more advanced example of list comprehension\n",
    "[ssid.name for ssid in wlc_aireos.ssid if ssid.session_timeout == '86400 seconds']"
   ]
  },
  {
   "cell_type": "code",
   "execution_count": null,
   "id": "7af30ea9",
   "metadata": {},
   "outputs": [],
   "source": [
    "#One more example - get the names of SSIDs with CWA\n",
    "[ssid.name for ssid in wlc_aireos.ssid \n",
    "   if ssid.aaa_policy_override == 'Enabled' and \n",
    "   'Guest' in ssid.name]\n"
   ]
  },
  {
   "cell_type": "code",
   "execution_count": null,
   "id": "0f8510f6",
   "metadata": {},
   "outputs": [],
   "source": [
    "#Now find POLICY PROFILEs for 9800 WLC with attribute 'opt82_apname' = 'ENABLED'\n",
    "\n",
    "#Hint 0. Find policy profile attribute by typing wlc_iosxe.p and pressing TAB\n",
    "\n",
    "#Hint 1. Check attributes by using GREP wlc_iosxe.policy_profiles.grep('opt82_apname')\n",
    "\n",
    "#Hint 2. Use the following syntax [profile.name for profile in wlc_iosxe.policy_profiles if True]"
   ]
  },
  {
   "cell_type": "markdown",
   "id": "ea5ddf45",
   "metadata": {},
   "source": [
    "## Try ready-to-use functions"
   ]
  },
  {
   "cell_type": "code",
   "execution_count": null,
   "id": "904de765",
   "metadata": {},
   "outputs": [],
   "source": [
    "#Explore rogue AP report by calling rogue_ap_summary(wlc_iosxe)\n",
    "\n",
    "# *your code is here*"
   ]
  },
  {
   "cell_type": "code",
   "execution_count": null,
   "id": "1dd40a77",
   "metadata": {},
   "outputs": [],
   "source": [
    "#Explore configuration best practice report by calling bp_check(wlc_aireos)\n",
    "\n",
    "# *your code is here*"
   ]
  },
  {
   "cell_type": "code",
   "execution_count": null,
   "id": "733db3d6",
   "metadata": {},
   "outputs": [],
   "source": [
    "#Collect the data from your own WLC by calling ssh_collect()\n",
    "#WLC should be reachable from your host!!!\n",
    "\n",
    "#mywlc = ssh_collect()\n"
   ]
  },
  {
   "cell_type": "code",
   "execution_count": null,
   "id": "ce18b9a5",
   "metadata": {},
   "outputs": [],
   "source": [
    "#Find AP with high channel utilization by calling \"bad_utilization_aps\" function\n",
    "\n",
    "#bad_utilization_aps(wlc_aireos,30)"
   ]
  },
  {
   "cell_type": "markdown",
   "id": "ef658e4a",
   "metadata": {},
   "source": [
    "## Congratulations! This tutorial is complete. I hope you found it useful. \n",
    "## Now it is time to use and contribute to this project :)"
   ]
  },
  {
   "cell_type": "code",
   "execution_count": null,
   "id": "88fc6e6a",
   "metadata": {},
   "outputs": [],
   "source": [
    "# *your code contribution is here*\n",
    "\n",
    "#Do not forget to pull request it to github repository!"
   ]
  }
 ],
 "metadata": {
  "kernelspec": {
   "display_name": "Python 3 (ipykernel)",
   "language": "python",
   "name": "python3"
  },
  "language_info": {
   "codemirror_mode": {
    "name": "ipython",
    "version": 3
   },
   "file_extension": ".py",
   "mimetype": "text/x-python",
   "name": "python",
   "nbconvert_exporter": "python",
   "pygments_lexer": "ipython3",
   "version": "3.9.6"
  }
 },
 "nbformat": 4,
 "nbformat_minor": 5
}
